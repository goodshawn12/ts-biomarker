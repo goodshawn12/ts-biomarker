{
 "cells": [
  {
   "cell_type": "code",
   "execution_count": null,
   "metadata": {
    "collapsed": true
   },
   "outputs": [],
   "source": [
    "%load_ext autoreload\n",
    "%autoreload 2\n",
    "\n",
    "import numpy as np\n",
    "from automatic_ecg_diagnosis import make_datasets, constants"
   ]
  },
  {
   "cell_type": "code",
   "execution_count": null,
   "outputs": [],
   "source": [
    "# Load the test dataset (small)\n",
    "ecg_dataset = make_datasets.ECGDataset(test_set=True)\n",
    "\n",
    "# Load the train dataset (large)\n",
    "# ecg_dataset = make_datasets.ECGDataset(test_set=False)\n",
    "\n",
    "ecg_tracings = np.array(ecg_dataset.x)\n",
    "annot_gold_standard = ecg_dataset.y\n",
    "n_classes = ecg_dataset.n_classes\n",
    "n_samples = ecg_dataset.n_samples\n",
    "n_labels = ecg_dataset.n_labels\n",
    "patient_conditions = ecg_dataset.classes\n",
    "patient_info = ecg_dataset.info\n",
    "\n",
    "# print results\n",
    "print('Number of samples: {}'.format(n_samples))\n",
    "print('Number of classes: {}'.format(n_classes))\n",
    "print('Number of labels: {}'.format(n_labels))\n",
    "print('Classes: {}'.format(patient_conditions))\n",
    "\n",
    "# basic info about the dataset\n",
    "ecg_leads = [lead.value for lead in list(constants.ECGLead)]\n",
    "print('ECG sampling rate (Hz): {}'.format(constants.SAMPLING_RATE_ECG))\n",
    "print('12-lead channel names: {}'.format(ecg_leads))"
   ],
   "metadata": {
    "collapsed": false,
    "pycharm": {
     "name": "#%%\n"
    }
   }
  },
  {
   "cell_type": "code",
   "execution_count": null,
   "outputs": [],
   "source": [],
   "metadata": {
    "collapsed": false,
    "pycharm": {
     "name": "#%%\n"
    }
   }
  }
 ],
 "metadata": {
  "kernelspec": {
   "display_name": "Python 3",
   "language": "python",
   "name": "python3"
  },
  "language_info": {
   "codemirror_mode": {
    "name": "ipython",
    "version": 2
   },
   "file_extension": ".py",
   "mimetype": "text/x-python",
   "name": "python",
   "nbconvert_exporter": "python",
   "pygments_lexer": "ipython2",
   "version": "2.7.6"
  }
 },
 "nbformat": 4,
 "nbformat_minor": 0
}